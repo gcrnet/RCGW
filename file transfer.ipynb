{
 "cells": [
  {
   "cell_type": "code",
   "execution_count": null,
   "metadata": {},
   "outputs": [],
   "source": [
    "from __future__ import print_function \n",
    "koundinya_challa = \"979e3598-5fc4-11ea-af52-0201714f6eab\" \n",
    "UNCG = \"90c62273-3c24-4bc6-b963-3f6c9b4f294e\"      \n",
    "tutorial_users_group = \"e4c16d15-6d04-11e5-ba46-22000b92c6ec\"     "
   ]
  },
  {
   "cell_type": "code",
   "execution_count": null,
   "metadata": {},
   "outputs": [],
   "source": [
    "import globus_sdk"
   ]
  },
  {
   "cell_type": "code",
   "execution_count": null,
   "metadata": {},
   "outputs": [],
   "source": [
    "CLIENT_ID = 'c59dcb05-62bf-40e3-900a-60c3935644a6'"
   ]
  },
  {
   "cell_type": "code",
   "execution_count": null,
   "metadata": {},
   "outputs": [],
   "source": [
    "native_auth_client = globus_sdk.NativeAppAuthClient(CLIENT_ID)\n",
    "native_auth_client.oauth2_start_flow()\n",
    "print(\"Login Here:\\n\\n{0}\".format(native_auth_client.oauth2_get_authorize_url()))\n",
    "print(\"\\nIMPORTANT NOTE: the link above can only be used once!\")\n",
    "print(\"If login or a later step in the flow fails, you must execute this cell again to generate a new link.\")"
   ]
  },
  {
   "cell_type": "code",
   "execution_count": null,
   "metadata": {},
   "outputs": [],
   "source": [
    "auth_code = \"W7ImAQJQR8mVTEeH4GbrRy9MZJkz5S\"\n",
    "token_response = native_auth_client.oauth2_exchange_code_for_tokens(auth_code)\n",
    "transfer_access_token = token_response.by_resource_server['transfer.api.globus.org']['access_token']\n",
    "transfer_authorizer = globus_sdk.AccessTokenAuthorizer(transfer_access_token)\n",
    "tc = globus_sdk.TransferClient(authorizer=transfer_authorizer)"
   ]
  },
  {
   "cell_type": "code",
   "execution_count": null,
   "metadata": {},
   "outputs": [],
   "source": [
    "r = tc.endpoint_search(filter_scope=\"my-endpoints\")\n",
    "for ep in r:\n",
    "    print(\"{} ({})\".format(ep[\"display_name\"] or ep[\"canonical_name\"], ep[\"id\"]))"
   ]
  },
  {
   "cell_type": "code",
   "execution_count": null,
   "metadata": {},
   "outputs": [],
   "source": [
    "r = tc.get_endpoint(koundinya_challa)\n",
    "print(\"HTTP Status Code:\", r.http_status)\n",
    "print(\"Content Type:\", r.content_type)\n",
    "print(\"Data:\", r)\n",
    "print(\"Endpoint Display Name:\", r[\"display_name\"]) "
   ]
  },
  {
   "cell_type": "code",
   "execution_count": null,
   "metadata": {},
   "outputs": [],
   "source": [
    "endpoint_id = koundinya_challa\n",
    "endpoint_path = \"/~/S/UNCG/\"\n",
    "r = tc.operation_ls(endpoint_id, path=endpoint_path)\n",
    "print(\"==== Endpoint_ls for endpoint {} {} ====\".format(endpoint_id, endpoint_path))\n",
    "for item in r:\n",
    "    print(\"{}: {} [{}]\".format(item[\"type\"], item[\"name\"], item[\"size\"]))"
   ]
  },
  {
   "cell_type": "code",
   "execution_count": null,
   "metadata": {},
   "outputs": [],
   "source": [
    "try:\n",
    "    endpoint_id = koundinya_challa\n",
    "    endpoint_path = \"/~/S/UNCG/Globus_playground/example-dir\"\n",
    "    mkdir_result = tc.operation_mkdir(endpoint_id, path=endpoint_path)\n",
    "    print(mkdir_result[\"message\"])\n",
    "except globus_sdk.GlobusAPIError as ex:\n",
    "    print(\"Error code:\", ex.code)\n",
    "    print(\"Error message:\", ex.message)"
   ]
  },
  {
   "cell_type": "code",
   "execution_count": null,
   "metadata": {},
   "outputs": [],
   "source": [
    "try:\n",
    "    endpoint_id = koundinya_challa\n",
    "    r = tc.operation_rename(endpoint_id, oldpath=\"/~/S/UNCG/Globus_playground/example-dir\",\n",
    "                            newpath=\"/~/S/UNCG/Globus_playground/example-dir-renamed\")\n",
    "    print(r[\"message\"])\n",
    "except globus_sdk.GlobusAPIError as ex:\n",
    "    print(\"Error code:\", ex.code)\n",
    "    print(\"Error message:\", ex.message)"
   ]
  },
  {
   "cell_type": "code",
   "execution_count": null,
   "metadata": {},
   "outputs": [],
   "source": [
    "source_endpoint_id = koundinya_challa\n",
    "source_path = \"/~/S/UNCG/Globus_playground/gcrNet\"\n",
    "\n",
    "dest_endpoint_id = UNCG\n",
    "dest_path = \"/~/\"\n",
    "\n",
    "label = \"My example transfer\"\n",
    "\n",
    "tdata = globus_sdk.TransferData(tc, source_endpoint_id,\n",
    "                                dest_endpoint_id,\n",
    "                                label=label)\n",
    "\n",
    "tdata.add_item(source_path, dest_path, recursive=True)\n",
    "\n",
    "tc.endpoint_autoactivate(source_endpoint_id)\n",
    "tc.endpoint_autoactivate(dest_endpoint_id)\n",
    "\n",
    "submit_result = tc.submit_transfer(tdata)\n",
    "print(\"Task ID:\", submit_result[\"task_id\"])"
   ]
  }
 ],
 "metadata": {
  "kernelspec": {
   "display_name": "Python 3",
   "language": "python",
   "name": "python3"
  },
  "language_info": {
   "codemirror_mode": {
    "name": "ipython",
    "version": 3
   },
   "file_extension": ".py",
   "mimetype": "text/x-python",
   "name": "python",
   "nbconvert_exporter": "python",
   "pygments_lexer": "ipython3",
   "version": "3.7.4"
  }
 },
 "nbformat": 4,
 "nbformat_minor": 2
}
